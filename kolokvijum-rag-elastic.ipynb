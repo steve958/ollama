{
 "cells": [
  {
   "cell_type": "code",
   "execution_count": 1,
   "id": "4b756cf2-3c41-48dc-bc6a-ef9ca8b27830",
   "metadata": {},
   "outputs": [],
   "source": [
    "from openai import OpenAI"
   ]
  },
  {
   "cell_type": "code",
   "execution_count": 2,
   "id": "116b420a-5a55-4571-b8a3-8b4ad1836224",
   "metadata": {},
   "outputs": [],
   "source": [
    "from openai import OpenAI\n",
    " \n",
    "client = OpenAI(\n",
    "    base_url='http://localhost:11434/v1/',\n",
    "    api_key='ollama',\n",
    ")"
   ]
  },
  {
   "cell_type": "code",
   "execution_count": 3,
   "id": "69d0ce97-d914-49b6-ba8e-7ecbd818d478",
   "metadata": {},
   "outputs": [],
   "source": [
    "from elasticsearch import Elasticsearch"
   ]
  },
  {
   "cell_type": "code",
   "execution_count": 5,
   "id": "80d4b5e5-0831-4ad2-b3fe-243098e6e98f",
   "metadata": {},
   "outputs": [
    {
     "data": {
      "text/plain": [
       "ObjectApiResponse({'acknowledged': True, 'shards_acknowledged': True, 'index': 'kolokvijum1'})"
      ]
     },
     "execution_count": 5,
     "metadata": {},
     "output_type": "execute_result"
    }
   ],
   "source": [
    "es_client = Elasticsearch('http://localhost:9200')\n",
    "index_settings = {\n",
    "    \"settings\": {\n",
    "        \"number_of_shards\": 1,\n",
    "        \"number_of_replicas\": 0\n",
    "    },\n",
    "    \"mappings\": {\n",
    "        \"properties\": {\n",
    "            \"description\": {\"type\": \"text\"},\n",
    "            \"title\": {\"type\": \"keyword\"}\n",
    "        }\n",
    "    }\n",
    "}\n",
    " \n",
    "index_name = \"kolokvijum1\" #database name maybe ?\n",
    " \n",
    "es_client.indices.create(index=index_name, body=index_settings)"
   ]
  },
  {
   "cell_type": "code",
   "execution_count": 6,
   "id": "2f486782-42da-41f0-837d-89727af5c733",
   "metadata": {},
   "outputs": [],
   "source": [
    "from tqdm.auto import tqdm"
   ]
  },
  {
   "cell_type": "code",
   "execution_count": 7,
   "id": "a7b0b759-1560-4c77-82fe-342bc33bb7a1",
   "metadata": {},
   "outputs": [],
   "source": [
    "import json"
   ]
  },
  {
   "cell_type": "code",
   "execution_count": 8,
   "id": "e2f904b2-5aeb-4319-babc-6fee522ef94b",
   "metadata": {},
   "outputs": [],
   "source": [
    "with open('kolokvijum.json', 'rt') as f_in:\n",
    "    titles = json.load(f_in)"
   ]
  },
  {
   "cell_type": "code",
   "execution_count": 9,
   "id": "f4962abc-cd4b-44e5-a93b-f341905d48bd",
   "metadata": {},
   "outputs": [
    {
     "data": {
      "application/vnd.jupyter.widget-view+json": {
       "model_id": "1c468bd5ef174a12a979482d4a47b443",
       "version_major": 2,
       "version_minor": 0
      },
      "text/plain": [
       "  0%|          | 0/122 [00:00<?, ?it/s]"
      ]
     },
     "metadata": {},
     "output_type": "display_data"
    }
   ],
   "source": [
    "for title in tqdm(titles):\n",
    "    es_client.index(index=index_name,document=title) # final init of elastiserach"
   ]
  },
  {
   "cell_type": "code",
   "execution_count": 10,
   "id": "aaa9c43c-3b44-4f70-ae8b-8d6c3acc6f86",
   "metadata": {},
   "outputs": [],
   "source": [
    "def elastic_search(query):\n",
    "    serach_query = {\n",
    "        \"size\": 5,\n",
    "        \"query\": {\n",
    "            \"bool\": {\n",
    "                \"must\": {\n",
    "                    \"multi_match\": {\n",
    "                        \"query\": query,\n",
    "                        \"fields\": [\"description^3\"],\n",
    "                        \"type\": \"best_fields\"\n",
    "                    }\n",
    "                }\n",
    "               \n",
    "            }\n",
    "        }\n",
    "    }\n",
    "    response = es_client.search(index=index_name,body=serach_query)\n",
    "       \n",
    "    result_doc = []\n",
    "   \n",
    "    for hit in response['hits']['hits']:  \n",
    "        result_doc.append(hit['_source'])\n",
    "    return result_doc"
   ]
  },
  {
   "cell_type": "code",
   "execution_count": 20,
   "id": "1117b1ae-eed6-4f65-97bd-e0cfc7a47f0a",
   "metadata": {},
   "outputs": [],
   "source": [
    "def build_prompt(query,search_results):\n",
    "    prompt_template =\"\"\"\n",
    "You are user manuel interpreter. Answer the QUESTION base on the CONTEXT from the FAQ database.\n",
    "Use only the facts from the CONTEXT when answering the QUESTION.If CONTEXT doesn't contain  the answer output NONE\n",
    " \n",
    " \n",
    "QUESTION: {question}\n",
    " \n",
    "CONTEXT: {context}\n",
    "\"\"\".strip()\n",
    " \n",
    "    context  = \"\"\n",
    "    for doc in search_results:\n",
    "        context = context + f\"title: {doc['title']}\\ndescirption: {doc['description']}\\n\\n\"\n",
    "   \n",
    "    prompt = prompt_template.format(question=query,context= context).strip()\n",
    "    print(prompt)\n",
    "    return prompt\n",
    " \n",
    "def llm(prompt):\n",
    "    response = client.chat.completions.create(\n",
    "        model='gemma2:2b',\n",
    "        #model='phi3',\n",
    "        messages=[{\"role\": \"user\", \"content\": prompt}]\n",
    "    )\n",
    "   \n",
    "    return response.choices[0].message.content"
   ]
  },
  {
   "cell_type": "code",
   "execution_count": 12,
   "id": "83b011ec-efb9-4926-9980-9a030f898670",
   "metadata": {},
   "outputs": [],
   "source": [
    "def rag(query):\n",
    "    search_results = elastic_search(query)\n",
    "    prompt = build_prompt(query, search_results)\n",
    "    answer = llm(prompt)\n",
    "    return answer\n"
   ]
  },
  {
   "cell_type": "code",
   "execution_count": 13,
   "id": "9adc2eb1-3b20-4e59-9555-44ddb31f895e",
   "metadata": {},
   "outputs": [
    {
     "name": "stdout",
     "output_type": "stream",
     "text": [
      "NONE \n",
      "\n"
     ]
    }
   ],
   "source": [
    "print(rag('Sta je SQL?'))"
   ]
  },
  {
   "cell_type": "code",
   "execution_count": 21,
   "id": "4c6a9561-2e5a-4c6f-a4c0-4795f88de48d",
   "metadata": {},
   "outputs": [
    {
     "name": "stderr",
     "output_type": "stream",
     "text": [
      "Waiting for LLM: |                                                                           | 00:00"
     ]
    },
    {
     "name": "stdout",
     "output_type": "stream",
     "text": [
      "You are user manuel interpreter. Answer the QUESTION base on the CONTEXT from the FAQ database.\n",
      "Use only the facts from the CONTEXT when answering the QUESTION.If CONTEXT doesn't contain  the answer output NONE\n",
      " \n",
      " \n",
      "QUESTION: Metodologija REST aplikacije?\n",
      " \n",
      "CONTEXT: title: Dizajn REST aplikacije / metodologija\n",
      "descirption: Dizajn REST aplikacije / metodologija\n",
      "1. Identiﬁkovanje resursa koji treba da su vidljivi \n",
      "kao servis (npr. godišnji izveštaji, katalozi \n",
      "knjiga, porudžbine…) \n",
      "2. Modelovanje relacija između resursa kao \n",
      "hiperlinkova koje je moguće slediti kako bi se \n",
      "dobilo više detalja (ili kako bi se izvela \n",
      "promena stanja resursa) \n",
      "3. Deiﬁnisati „lepe“ URI-je za adresiranje resursa \n",
      "4. Razumeti smisao izvršavanja GET, POST, PUT, \n",
      "DELETE zahteva na svaki od resursa (i sa li su \n",
      "svi i dozvoljeni za svaki resurs) \n",
      "5. Dizajnirati i dokumentovati reprezentaciju \n",
      "resursa (može biti više) \n",
      "6. Implementirati i postaviti na web server \n",
      "7. Testirati (browser, PostMen…) \n",
      "\n",
      "\n",
      "title: Šta je REST?\n",
      "descirption: Šta je REST?\n",
      "• Representational State Transfer (REST) - stil arhitekture sistema \n",
      "koji speciﬁcira određena ograničenja: \n",
      "1. Način identiﬁkacije resursa \n",
      "2. uniformisani interfejs ",
      "\n",
      "GET, PUT, DELETE, POST (HEAD, OPTIONS...)  \n",
      "3. Samoopisive poruke \n",
      "4. Stanje aplikacije upravljano hipermedijom (linkovi \n",
      "predstavljaju endpointe kojim se manipuliše resursima, \n",
      "manipulacija resursima menja tekuće stanje aplikacije) \n",
      "5. Stateless interakcije  \n",
      "• Primena ovih ograničenja na web servise pojačava pozitivne \n",
      "osobine, kao što su performanse, skalabilnost, izmenjivost. \n",
      "\n",
      "\n",
      "title: Stanje aplikacije\n",
      "descirption: Stanje aplikacije\n",
      "\n",
      "\n",
      "title: Stateless vs. Stateful?\n",
      "descirption: Stateless vs. Stateful?  ",
      "\n",
      "Stanje aplikacije\n",
      "• Samo ime REST-a sugeriše da se posmatra stanje \n",
      "resursa u distribuiranom sistemu, ali komunikacija \n",
      "je stateless. \n",
      "• Stanje na klijentu: \n",
      "• Klijent se kreće po raspoloživim resursima tako \n",
      "što prati linkove, njegovo stanje je određeno \n",
      "posećenim linkovima \n",
      "• Server može da utiče na tranzicije stanja koje su \n",
      "klijentu raspoložive tako što mu u odgovoru na \n",
      "GET zahteve može slati hiperlinkove do resursa \n",
      "koje treba pratiti\n",
      "\n",
      "\n",
      "title: Stanje aplikacije\n",
      "descirption: Stateless vs. Stateful?  ",
      "\n",
      "Stanje aplikacije\n",
      "• Samo ime REST-a sugeriše da se posmatra stanje \n",
      "resursa u distribuiranom sistemu, ali komunikacija \n",
      "je stateless. \n",
      "• Stanje na klijentu: \n",
      "• Klijent se kreće po raspoloživim resursima tako \n",
      "što prati linkove, njegovo stanje je određeno \n",
      "posećenim linkovima \n",
      "• Server može da utiče na tranzicije stanja koje su \n",
      "klijentu raspoložive tako što mu u odgovoru na \n",
      "GET zahteve može slati hiperlinkove do resursa \n",
      "koje treba pratiti\n"
     ]
    },
    {
     "name": "stderr",
     "output_type": "stream",
     "text": [
      "Waiting for LLM: |                                                                           | 00:30"
     ]
    },
    {
     "name": "stdout",
     "output_type": "stream",
     "text": [
      "REST aplikacija se oslanja na temeljna principe:\n",
      "\n",
      "1. **Identifikacija resursa:** Identifikacija resursa treba da budu vidljivi kao servis (npr. godišnja izveštaji, katalozi knjiga...). \n",
      "2. **Pojedine odgovore:** Modeliranje relacija između resursi kao hiperlinkova koje je moguće slediti kako bi se dobili više detalja (ili kako bi se izvela promjena stanja).\n",
      "3. **Lekcije za URI-je:** \"Lepe\" URI-je za adresiranje resursa treba da budu određen.  \n",
      "4. **Specifikacije zahteva:** Razumeti smisao izvršavanja GET, POST, PUT i DELETE zahteva na svaki od resursa (i sa li su svi i dozvoljeni za svaki resur). \n",
      "5. **Representacija resursi:** Reprezentancije resursi treba da budu definisane (može biti više).  \n",
      "6. **Implemetasija i postavke web-servera:** Implementirati i postaviti na web server. \n",
      "7. **Testiranja:**  Testiranje aplikacije  (browser, PostMen...)\n",
      "\n",
      "\n",
      "\n",
      "\n",
      "\n"
     ]
    },
    {
     "name": "stderr",
     "output_type": "stream",
     "text": [
      "\n"
     ]
    }
   ],
   "source": [
    "import threading\n",
    "import time\n",
    "\n",
    "def loader():\n",
    "    with tqdm(\n",
    "        desc=\"Waiting for LLM\", \n",
    "        ncols=100, \n",
    "        bar_format=\"{l_bar}{bar} | {elapsed}\"\n",
    "    ) as pbar:\n",
    "        while not stop_loading:\n",
    "            time.sleep(0.1)  # Adjust the speed if necessary\n",
    "            pbar.update(1)\n",
    "\n",
    "# Start the loader in a separate thread\n",
    "stop_loading = False\n",
    "t = threading.Thread(target=loader)\n",
    "t.start()\n",
    "\n",
    "# Call the LLM or any other long-running task\n",
    "response = rag('Metodologija REST aplikacije?')\n",
    "\n",
    "# Stop the loader\n",
    "stop_loading = True\n",
    "t.join()\n",
    "\n",
    "# Handle the response\n",
    "print(response)"
   ]
  },
  {
   "cell_type": "code",
   "execution_count": null,
   "id": "24070db0-f273-4dd1-9c3e-e588645e91f1",
   "metadata": {},
   "outputs": [],
   "source": []
  }
 ],
 "metadata": {
  "kernelspec": {
   "display_name": "Python 3 (ipykernel)",
   "language": "python",
   "name": "python3"
  },
  "language_info": {
   "codemirror_mode": {
    "name": "ipython",
    "version": 3
   },
   "file_extension": ".py",
   "mimetype": "text/x-python",
   "name": "python",
   "nbconvert_exporter": "python",
   "pygments_lexer": "ipython3",
   "version": "3.10.13"
  }
 },
 "nbformat": 4,
 "nbformat_minor": 5
}
