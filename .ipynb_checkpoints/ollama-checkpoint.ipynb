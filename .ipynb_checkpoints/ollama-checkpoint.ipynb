{
 "cells": [
  {
   "cell_type": "code",
   "execution_count": 1,
   "id": "7e0ed764-9580-40f8-bca8-b15bfff26d41",
   "metadata": {},
   "outputs": [
    {
     "name": "stdout",
     "output_type": "stream",
     "text": [
      "--2024-08-13 09:29:08--  https://raw.githubusercontent.com/alexeygrigorev/minsearch/main/minsearch.py\n",
      "Resolving raw.githubusercontent.com (raw.githubusercontent.com)... 185.199.108.133, 185.199.109.133, 185.199.110.133, ...\n",
      "Connecting to raw.githubusercontent.com (raw.githubusercontent.com)|185.199.108.133|:443... connected.\n",
      "HTTP request sent, awaiting response... 200 OK\n",
      "Length: 3832 (3.7K) [text/plain]\n",
      "Saving to: ‘minsearch.py’\n",
      "\n",
      "minsearch.py        100%[===================>]   3.74K  --.-KB/s    in 0s      \n",
      "\n",
      "2024-08-13 09:29:08 (25.0 MB/s) - ‘minsearch.py’ saved [3832/3832]\n",
      "\n"
     ]
    }
   ],
   "source": [
    "!rm -f minsearch.py\n",
    "!wget https://raw.githubusercontent.com/alexeygrigorev/minsearch/main/minsearch.py"
   ]
  },
  {
   "cell_type": "code",
   "execution_count": 2,
   "id": "59f5ea24-69e4-4077-a0c5-b3cf3d66954c",
   "metadata": {},
   "outputs": [
    {
     "data": {
      "text/plain": [
       "<minsearch.Index at 0x7e565c3674c0>"
      ]
     },
     "execution_count": 2,
     "metadata": {},
     "output_type": "execute_result"
    }
   ],
   "source": [
    "import requests \n",
    "import minsearch\n",
    "\n",
    "docs_url = 'https://github.com/DataTalksClub/llm-zoomcamp/blob/main/01-intro/documents.json?raw=1'\n",
    "docs_response = requests.get(docs_url)\n",
    "documents_raw = docs_response.json()\n",
    "\n",
    "documents = []\n",
    "\n",
    "for course in documents_raw:\n",
    "    course_name = course['course']\n",
    "\n",
    "    for doc in course['documents']:\n",
    "        doc['course'] = course_name\n",
    "        documents.append(doc)\n",
    "\n",
    "index = minsearch.Index(\n",
    "    text_fields=[\"question\", \"text\", \"section\"],\n",
    "    keyword_fields=[\"course\"]\n",
    ")\n",
    "\n",
    "index.fit(documents)"
   ]
  },
  {
   "cell_type": "code",
   "execution_count": 3,
   "id": "d0717a71-de71-4f7d-918a-d1ffb9831e18",
   "metadata": {},
   "outputs": [],
   "source": [
    "def search(query):\n",
    "    boost = {'question': 3.0, 'section': 0.5}\n",
    "\n",
    "    results = index.search(\n",
    "        query=query,\n",
    "        filter_dict={'course': 'data-engineering-zoomcamp'},\n",
    "        boost_dict=boost,\n",
    "        num_results=5\n",
    "    )\n",
    "\n",
    "    return results"
   ]
  },
  {
   "cell_type": "code",
   "execution_count": 4,
   "id": "7e59bd8e-c4dc-47b2-93ba-f7b232f96402",
   "metadata": {},
   "outputs": [],
   "source": [
    "def build_prompt(query, search_results):\n",
    "    prompt_template = \"\"\"\n",
    "You're a course teaching assistant. Answer the QUESTION based on the CONTEXT from the FAQ database.\n",
    "Use only the facts from the CONTEXT when answering the QUESTION.\n",
    "\n",
    "QUESTION: {question}\n",
    "\n",
    "CONTEXT: \n",
    "{context}\n",
    "\"\"\".strip()\n",
    "\n",
    "    context = \"\"\n",
    "    \n",
    "    for doc in search_results:\n",
    "        context = context + f\"section: {doc['section']}\\nquestion: {doc['question']}\\nanswer: {doc['text']}\\n\\n\"\n",
    "    \n",
    "    prompt = prompt_template.format(question=query, context=context).strip()\n",
    "    print(prompt)\n",
    "    return prompt\n",
    "\n",
    "def llm(prompt):\n",
    "    response = client.chat.completions.create(\n",
    "        model='phi3',\n",
    "        messages=[{\"role\": \"user\", \"content\": prompt}]\n",
    "    )\n",
    "    \n",
    "    return response.choices[0].message.content"
   ]
  },
  {
   "cell_type": "code",
   "execution_count": 5,
   "id": "c7ae643b-31c0-4c3b-b30b-54b9850341ad",
   "metadata": {},
   "outputs": [],
   "source": [
    "def rag(query):\n",
    "    search_results = search(query)\n",
    "    prompt = build_prompt(query, search_results)\n",
    "    answer = llm(prompt)\n",
    "    return answer"
   ]
  },
  {
   "cell_type": "code",
   "execution_count": 6,
   "id": "d49eed12-71e8-4386-b507-00bae6a9b53d",
   "metadata": {},
   "outputs": [],
   "source": [
    "from openai import OpenAI\n",
    "\n",
    "client = OpenAI(\n",
    "    base_url='http://localhost:11434/v1/',\n",
    "    api_key='ollama',\n",
    ")"
   ]
  },
  {
   "cell_type": "code",
   "execution_count": 7,
   "id": "833486d4-16c4-4c2a-a72a-b08910b8ce8c",
   "metadata": {},
   "outputs": [
    {
     "data": {
      "text/plain": [
       "'Yes, even if your registration lapses beforehand, as long as it\\'s after the course start date (15th Jan 2024), and until we conclude our final projects submission period announced in official channels such as DataTalks.Club Slack or Telegram channel, you remain welcomed to submit all homework assignments along with a late registration fee if necessary – there is no mention of an absolute cut-off for starting the course work post initial start date within your CONTEXT! \\nI advise timely participation and submitting assignments before final deadlines. You can also begin formulating ideas or planning further research into any pending issues, in respect to our syllabus discussions during early interactions with me as a teaching assistant for data structures using Python (possibly based on the general technical support questions). Keep up this proactive engagement and learn actively from course materials beforehand. Make sure your development environment is all ready ahead of time too! Become familiar, feel at ease exploring further resources around our syllabus topics like \\'Theory\\' or other related subjects through Python textbooks (like \"Python Crash Course\"). Remember to stay involved with the community via DataTalks.Club Slack and Telegram channel for real-time course updates including upcoming office hours live!\\nKeep yourself updated on additional courses being offered simultaneously, but remember our focus will be towards Python coding practices in data structures primarily – ensuring a more comprehensive understanding through hands-on practice over theoretical lectures. Keep revisiting materials to build upon any knowledge set forth and maintain pace within the community for collaborative interactions fostering deeper learning experiences!\\nIt\\'s suggested by the context you ask: You can join or catch up on course components even after official class hours using self-education via resources like Google Classroom, but keep a check with us regarding project deadlines. For now though I strongly feel having continuous engagement from day one - starting discussions about your personalized experiences in solving data structure problems till we reach the capstone projects completion is going to yield best results! Remember DataTalks Clan has members interested in sharing solutions that might cross-pollinate ideas beyond course syllabus constraints; let them know here if anything aligns with yours or interests you too. Stay curious but focused on aching goals towards becoming an expert DS programmer under our mentorship guidance till last submission date!\\nHey, it\\'s always beneficial to take initiatives early before courses kick-start - this can include setting up dependencies using google cloud account+gcloud sdk alongwith Python3.7(Anaconda), installing Terraform and Git onto a standalone desktop system or preferred device setup like laptops! I will be happy sharing technical notes from course\\'s theory part soon via DataTalks Chat on Slack alongside any hands-on live sessions during off days etc., so make sure to join regularly.\\nAlso keep an eye out for announcements about office hours; these could give extra insights which might prove as a catalyst towards enhancing your journey through mastering python DS knowledge while working together with us, sharing experiences around tackling different coding problems that arise during study/work related quests! Plus there\\'s nothing like interactively contributing any code snippet improvement suggestions once we get comfortable ongoing conversations started after initial syllabus understanding phase wrapped up (if applicable). Remember as teaching assistants sometimes even constructive criticism can be helpful –so never hesitate sharing questions whenever anything seems unclear regarding our classwork/projects.\\nHey, welcome to DS_Python in Python world! My name\\'s Tim the TA just here ready with any queries before rollup-out sessions begin ⚡🔥 It gets quite exciting when all student participants start putting their heart & souls into learning complex concepts like data structures as they dive deeper exploring them via practical workshops which offer real problem solving experience using algorithms + languages across various tech stacks under DataTalks platform - So keep rocking everyone\\'s minds!\\nHey there, I see you found us and are eager to join the course on \\'Learning Python Programming for DS Applications\\'. Fantastic decision as many successful data scientists started out learning from our content before going forward with advanced studies at institutions like MIT/Harvard/Stanford etc., who\\'ve partnered alongside yours including GoogleAI+Deepmind team. They offer cutting-edge research, hands-on experience & industry insights right through Data Talks which could be beneficial for expanding horizons along career paths chosen post course completion (Data Analysts/Engineerers etc..). So without wasting another minute - Sign up here today itself with no waiting list as all seats available immediately after initial class onset date + we\\'ll keep in touch via DataTalks Clan Telegram channel regularly to guide through learning process plus help whenever queries pop! Let us know about your experiences tackling these coding problems too so our community can benefit together. Remember: Don’t forget submissions for capstone project finalized within weekly deadlines announced here & always communicate with me directly if needing clarifications while working on personal projects or solving specific assignment questions via Slack channel- I\\'ll be happy assist!'"
      ]
     },
     "execution_count": 7,
     "metadata": {},
     "output_type": "execute_result"
    }
   ],
   "source": [
    "rag('I just discovered a course, can i still join?')"
   ]
  },
  {
   "cell_type": "code",
   "execution_count": null,
   "id": "4523650b-1796-4fa8-a805-e66be536edb8",
   "metadata": {},
   "outputs": [],
   "source": []
  }
 ],
 "metadata": {
  "kernelspec": {
   "display_name": "Python 3 (ipykernel)",
   "language": "python",
   "name": "python3"
  },
  "language_info": {
   "codemirror_mode": {
    "name": "ipython",
    "version": 3
   },
   "file_extension": ".py",
   "mimetype": "text/x-python",
   "name": "python",
   "nbconvert_exporter": "python",
   "pygments_lexer": "ipython3",
   "version": "3.10.13"
  }
 },
 "nbformat": 4,
 "nbformat_minor": 5
}
